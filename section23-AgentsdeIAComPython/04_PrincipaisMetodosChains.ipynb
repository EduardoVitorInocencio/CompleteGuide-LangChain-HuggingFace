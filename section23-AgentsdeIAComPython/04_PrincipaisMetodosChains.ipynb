{
 "cells": [
  {
   "cell_type": "markdown",
   "metadata": {},
   "source": [
    "# Principais métodos de chains com LCEL\n",
    "\n",
    "A interface padrão do LCEL inclui os seguintes métodos:\n",
    "\n",
    "• stream : transmitir de volta fragmentos da resposta\n",
    "\n",
    "• invoke : chamar a cadeia com um input\n",
    "\n",
    "• batch : chamar a cadeia com uma lista de inputs\n",
    "\n",
    "\n",
    "Esses também possuem métodos assíncronos correspondentes que devem ser usados com a sintaxe asyncio await para concorrência:\n",
    "\n",
    "• astream : transmitir de volta fragmentos de resposta de forma assíncrona.\n",
    "\n",
    "• ainvoke : chamar a cadeia com um input de forma assíncrona.\n",
    "\n",
    "• abatch : chamar a cadeia com uma lista de input de forma assíncrona.\n",
    "\n",
    "• astream_log : transmitir de volta etapas intermediárias à medida que acontecem, além da resposta final.\n",
    "\n",
    "• astream_events : transmitir eventos beta à medida que acontecem na cadeia."
   ]
  },
  {
   "cell_type": "code",
   "execution_count": 14,
   "metadata": {},
   "outputs": [],
   "source": [
    "from pyexpat import model\n",
    "from langchain_openai import ChatOpenAI\n",
    "from langchain_core.prompts import ChatPromptTemplate\n",
    "from langchain_core.output_parsers import StrOutputParser\n",
    "\n",
    "model = ChatOpenAI(model='gpt-3.5-turbo')\n",
    "prompt = ChatPromptTemplate.from_template(\"Crie um parágrafo filosofando sobre o seguinte assunto: {subject}\")\n",
    "\n",
    "chain = prompt | model "
   ]
  },
  {
   "cell_type": "markdown",
   "metadata": {},
   "source": [
    "## INVOKE\n",
    "\n",
    "O invoke é o método básico para uma input da caideia receber uma resposta"
   ]
  },
  {
   "cell_type": "code",
   "execution_count": 15,
   "metadata": {},
   "outputs": [
    {
     "data": {
      "text/plain": [
       "AIMessage(content='A vida é um mistério envolto em fragilidade e beleza. É um ciclo contínuo de nascimentos, mortes e renascimentos, onde cada momento é único e precioso. É uma jornada repleta de desafios, aprendizados e oportunidades de crescimento. A vida é um presente que nos foi dado, cheio de possibilidades e potenciais. É a oportunidade de experimentar, evoluir e buscar a felicidade em meio às adversidades e incertezas. Cada um de nós tem o poder de dar significado e propósito à nossa existência, transformando a vida em uma obra de arte em constante construção.', additional_kwargs={'refusal': None}, response_metadata={'token_usage': {'completion_tokens': 152, 'prompt_tokens': 31, 'total_tokens': 183, 'completion_tokens_details': {'accepted_prediction_tokens': 0, 'audio_tokens': 0, 'reasoning_tokens': 0, 'rejected_prediction_tokens': 0}, 'prompt_tokens_details': {'audio_tokens': 0, 'cached_tokens': 0}}, 'model_name': 'gpt-3.5-turbo-0125', 'system_fingerprint': None, 'finish_reason': 'stop', 'logprobs': None}, id='run-d4d98179-3d5b-44e7-b79d-46d11a8a4b0d-0', usage_metadata={'input_tokens': 31, 'output_tokens': 152, 'total_tokens': 183, 'input_token_details': {'audio': 0, 'cache_read': 0}, 'output_token_details': {'audio': 0, 'reasoning': 0}})"
      ]
     },
     "execution_count": 15,
     "metadata": {},
     "output_type": "execute_result"
    }
   ],
   "source": [
    "chain.invoke({\"subject\": \"O que é a vida?\"})"
   ]
  },
  {
   "cell_type": "markdown",
   "metadata": {},
   "source": [
    "## STREAM\n",
    "\n",
    "Para recebermos uma saída conforme ela é gerada pelo modelo utilizando o stream"
   ]
  },
  {
   "cell_type": "code",
   "execution_count": 19,
   "metadata": {},
   "outputs": [
    {
     "name": "stdout",
     "output_type": "stream",
     "text": [
      "O cachorrinho, pequeno em tamanho mas gigante em amor, nos ensina lições valiosas sobre lealdade, companheirismo e alegria. Sua presença em nossas vidas traz uma sensação de paz e conforto que nos faz sentir amados e protegidos. Eles nos mostram que, mesmo nos momentos mais difíceis, sempre haverá alguém ao nosso lado para nos apoiar e nos fazer sorrir. O cachorrinho é um exemplo de pureza e simplicidade, nos lembrando que a felicidade está nas pequenas coisas e que o amor verdadeiro não precisa de palavras, apenas de um olhar ou um carinho. Em sua inocência, nos mostram que a vida pode ser mais simples e mais bonita, se aprendermos a valorizar as pequenas coisas e a compartilhar o amor incondicional que eles nos oferecem."
     ]
    }
   ],
   "source": [
    "for chunk in chain.stream({'subject':'cachorrinho'}):\n",
    "    print(chunk.content, end = '', flush=True)"
   ]
  },
  {
   "cell_type": "markdown",
   "metadata": {},
   "source": [
    "## BATCH\n",
    "\n",
    "Para fazermos múltiplas requisições em paralelo utilizamos o batch."
   ]
  },
  {
   "cell_type": "code",
   "execution_count": 24,
   "metadata": {},
   "outputs": [
    {
     "data": {
      "text/plain": [
       "[AIMessage(content='A vida é um enigma que nos intriga desde o princípio dos tempos. É um ciclo constante de nascimentos, mortes, amores, dores e aprendizados. É a capacidade de sentir, de amar, de evoluir, de se adaptar às adversidades e de encontrar sentido em meio ao caos. A vida é uma jornada de descobertas e experiências, onde cada indivíduo é único em sua trajetória e em sua busca por significado. É a oportunidade de viver intensamente, de se conectar com o universo e com os outros seres que compartilham esse mesmo caminho. É um presente precioso e fugaz, que devemos valorizar e aproveitar ao máximo, pois nunca sabemos quando ela pode chegar ao fim.', additional_kwargs={'refusal': None}, response_metadata={'token_usage': {'completion_tokens': 174, 'prompt_tokens': 31, 'total_tokens': 205, 'completion_tokens_details': {'accepted_prediction_tokens': 0, 'audio_tokens': 0, 'reasoning_tokens': 0, 'rejected_prediction_tokens': 0}, 'prompt_tokens_details': {'audio_tokens': 0, 'cached_tokens': 0}}, 'model_name': 'gpt-3.5-turbo-0125', 'system_fingerprint': None, 'finish_reason': 'stop', 'logprobs': None}, id='run-29c6bd58-7ff3-4ffc-9cf0-fd4a63387ffb-0', usage_metadata={'input_tokens': 31, 'output_tokens': 174, 'total_tokens': 205, 'input_token_details': {'audio': 0, 'cache_read': 0}, 'output_token_details': {'audio': 0, 'reasoning': 0}}),\n",
       " AIMessage(content='A morte é um dos grandes mistérios da vida humana, um tema que desperta medo, curiosidade e reflexão em todos nós. Será o fim de tudo? Ou o início de uma nova jornada? A morte nos confronta com nossa finitude e nos obriga a encarar a efemeridade da nossa existência. Ela nos lembra que somos seres passageiros neste mundo, e que em algum momento todos teremos que encarar o desconhecido. Mas a morte também pode ser vista como parte natural do ciclo da vida, um processo inevitável e necessário para a renovação e a continuidade da vida. É um enigma que nos desafia a buscar sentido e significado para nossa existência, nos levando a refletir sobre questões profundas como o propósito da vida, o sentido da morte e a possível existência de algo além do que podemos compreender. A morte nos coloca diante do mistério da existência e nos convida a refletir sobre o que realmente importa em nossa passagem por este mundo.', additional_kwargs={'refusal': None}, response_metadata={'token_usage': {'completion_tokens': 242, 'prompt_tokens': 32, 'total_tokens': 274, 'completion_tokens_details': {'accepted_prediction_tokens': 0, 'audio_tokens': 0, 'reasoning_tokens': 0, 'rejected_prediction_tokens': 0}, 'prompt_tokens_details': {'audio_tokens': 0, 'cached_tokens': 0}}, 'model_name': 'gpt-3.5-turbo-0125', 'system_fingerprint': None, 'finish_reason': 'stop', 'logprobs': None}, id='run-584a5fcd-b321-4d04-ac3e-f075b772d9cb-0', usage_metadata={'input_tokens': 32, 'output_tokens': 242, 'total_tokens': 274, 'input_token_details': {'audio': 0, 'cache_read': 0}, 'output_token_details': {'audio': 0, 'reasoning': 0}}),\n",
       " AIMessage(content='A felicidade é um estado de espírito que vai muito além de simples momentos de prazer ou satisfação momentânea. Ela é a busca constante do equilíbrio entre nossas emoções, pensamentos e ações, resultando em uma sensação de plenitude e harmonia interior. A felicidade não está ligada apenas às conquistas materiais ou ao sucesso profissional, mas sim à capacidade de viver intensamente o presente, aceitar as adversidades da vida e encontrar significado em cada experiência. É um estado de ser que nos permite apreciar as pequenas coisas da vida, cultivar relacionamentos saudáveis e desenvolver nossa espiritualidade. A felicidade reside dentro de nós mesmos, e cabe a cada um de nós buscar cultivá-la e expandi-la em nosso dia a dia.', additional_kwargs={'refusal': None}, response_metadata={'token_usage': {'completion_tokens': 187, 'prompt_tokens': 33, 'total_tokens': 220, 'completion_tokens_details': {'accepted_prediction_tokens': 0, 'audio_tokens': 0, 'reasoning_tokens': 0, 'rejected_prediction_tokens': 0}, 'prompt_tokens_details': {'audio_tokens': 0, 'cached_tokens': 0}}, 'model_name': 'gpt-3.5-turbo-0125', 'system_fingerprint': None, 'finish_reason': 'stop', 'logprobs': None}, id='run-178148de-3b4c-4759-bb22-783bfc2c6dda-0', usage_metadata={'input_tokens': 33, 'output_tokens': 187, 'total_tokens': 220, 'input_token_details': {'audio': 0, 'cache_read': 0}, 'output_token_details': {'audio': 0, 'reasoning': 0}}),\n",
       " AIMessage(content='A tristeza é uma emoção complexa e profunda que faz parte da natureza humana. Ela surge quando nos deparamos com situações de perda, frustração, decepção ou solidão, e nos faz sentir um vazio interior inquietante. É um estado de espírito que nos leva a refletir sobre a vida, a morte, o sofrimento e a impermanência de todas as coisas. A tristeza nos convida a olhar para dentro de nós mesmos, a confrontar nossas dores e nossas fragilidades, e nos faz questionar o sentido da existência e a busca pela felicidade. É através da tristeza que podemos crescer, evoluir e nos tornar mais compassivos e empáticos com os outros. Apesar de dolorosa, a tristeza também pode ser transformadora e nos ajudar a encontrar significado e propósito em meio à adversidade.', additional_kwargs={'refusal': None}, response_metadata={'token_usage': {'completion_tokens': 209, 'prompt_tokens': 33, 'total_tokens': 242, 'completion_tokens_details': {'accepted_prediction_tokens': 0, 'audio_tokens': 0, 'reasoning_tokens': 0, 'rejected_prediction_tokens': 0}, 'prompt_tokens_details': {'audio_tokens': 0, 'cached_tokens': 0}}, 'model_name': 'gpt-3.5-turbo-0125', 'system_fingerprint': None, 'finish_reason': 'stop', 'logprobs': None}, id='run-42264229-1b0b-4c56-93c2-f88fda5b3a3b-0', usage_metadata={'input_tokens': 33, 'output_tokens': 209, 'total_tokens': 242, 'input_token_details': {'audio': 0, 'cache_read': 0}, 'output_token_details': {'audio': 0, 'reasoning': 0}}),\n",
       " AIMessage(content='A arte é uma expressão sublime do ser humano, capaz de transcender as barreiras do tempo e do espaço. Ela é a manifestação mais pura da criatividade e sensibilidade, capaz de despertar emoções e provocar reflexões profundas em quem a aprecia. A arte pode ser encontrada nas mais diversas formas e manifestações, desde a pintura e escultura até a música e literatura. Ela é capaz de capturar a essência da humanidade e revelar a beleza do mundo ao nosso redor. A arte nos conecta uns com os outros e com o universo, permitindo-nos explorar os limites da nossa própria existência. Em última instância, a arte é a expressão da alma humana, um reflexo da nossa busca incessante pela beleza, verdade e significado.', additional_kwargs={'refusal': None}, response_metadata={'token_usage': {'completion_tokens': 186, 'prompt_tokens': 31, 'total_tokens': 217, 'completion_tokens_details': {'accepted_prediction_tokens': 0, 'audio_tokens': 0, 'reasoning_tokens': 0, 'rejected_prediction_tokens': 0}, 'prompt_tokens_details': {'audio_tokens': 0, 'cached_tokens': 0}}, 'model_name': 'gpt-3.5-turbo-0125', 'system_fingerprint': None, 'finish_reason': 'stop', 'logprobs': None}, id='run-1de7918e-09cc-445e-ba1b-d3b05e9e2f77-0', usage_metadata={'input_tokens': 31, 'output_tokens': 186, 'total_tokens': 217, 'input_token_details': {'audio': 0, 'cache_read': 0}, 'output_token_details': {'audio': 0, 'reasoning': 0}}),\n",
       " AIMessage(content='A ciência é o resultado da busca incessante do conhecimento humano, da curiosidade que nos impulsiona a compreender o mundo em sua complexidade e diversidade. É o método sistemático e racional de investigação, fundamentado na observação, experimentação e análise crítica dos fenômenos naturais e sociais. A ciência nos permite questionar as verdades estabelecidas, revisar teorias e hipóteses, e avançar cada vez mais na compreensão dos mistérios da vida e do universo. Ela nos possibilita transcender as limitações do senso comum e da superstição, e nos leva a um caminho de progresso e evolução constante. A ciência não é apenas um conjunto de fatos ou teorias, mas sim um processo contínuo de investigação e descoberta que nos desafia a explorar novos horizontes e a expandir nossa compreensão do mundo e de nós mesmos.', additional_kwargs={'refusal': None}, response_metadata={'token_usage': {'completion_tokens': 221, 'prompt_tokens': 32, 'total_tokens': 253, 'completion_tokens_details': {'accepted_prediction_tokens': 0, 'audio_tokens': 0, 'reasoning_tokens': 0, 'rejected_prediction_tokens': 0}, 'prompt_tokens_details': {'audio_tokens': 0, 'cached_tokens': 0}}, 'model_name': 'gpt-3.5-turbo-0125', 'system_fingerprint': None, 'finish_reason': 'stop', 'logprobs': None}, id='run-0adc2ce9-8c75-40ac-aabf-8db761738f07-0', usage_metadata={'input_tokens': 32, 'output_tokens': 221, 'total_tokens': 253, 'input_token_details': {'audio': 0, 'cache_read': 0}, 'output_token_details': {'audio': 0, 'reasoning': 0}}),\n",
       " AIMessage(content='A religião é uma manifestação intrínseca da natureza humana, uma forma de buscar significado e propósito na vida. Ela representa a tentativa do ser humano de compreender o mundo e sua existência através de um sistema de crenças, rituais e práticas espirituais. A religião pode fornecer orientação moral, consolo em tempos de sofrimento e uma sensação de conexão com algo maior do que nós mesmos. No entanto, também pode ser fonte de divisão e conflito, quando as diferenças de crenças levam a intolerância e discriminação. Independentemente de suas diversas manifestações e tradições, a religião continua a ser uma força poderosa na vida das pessoas, influenciando suas escolhas e visões de mundo.', additional_kwargs={'refusal': None}, response_metadata={'token_usage': {'completion_tokens': 178, 'prompt_tokens': 32, 'total_tokens': 210, 'completion_tokens_details': {'accepted_prediction_tokens': 0, 'audio_tokens': 0, 'reasoning_tokens': 0, 'rejected_prediction_tokens': 0}, 'prompt_tokens_details': {'audio_tokens': 0, 'cached_tokens': 0}}, 'model_name': 'gpt-3.5-turbo-0125', 'system_fingerprint': None, 'finish_reason': 'stop', 'logprobs': None}, id='run-08540ca1-52fd-4e81-ab62-fd7c2590b309-0', usage_metadata={'input_tokens': 32, 'output_tokens': 178, 'total_tokens': 210, 'input_token_details': {'audio': 0, 'cache_read': 0}, 'output_token_details': {'audio': 0, 'reasoning': 0}}),\n",
       " AIMessage(content='A política é a arte de gerir e administrar a sociedade, buscando o bem comum e promovendo a justiça e a igualdade entre os indivíduos. É através da política que são estabelecidas as regras e normas que regem a convivência em grupo, garantindo a ordem e a harmonia social. No entanto, a política também pode ser vista como um jogo de interesses e poder, onde nem sempre o bem coletivo é priorizado. É importante refletir sobre a importância da ética e da moral na prática política, para que os governantes atuem em prol do benefício de todos, e não apenas de alguns poucos privilegiados. A política é, portanto, um instrumento de transformação e desenvolvimento da sociedade, desde que seja exercida de forma transparente e responsável.', additional_kwargs={'refusal': None}, response_metadata={'token_usage': {'completion_tokens': 190, 'prompt_tokens': 31, 'total_tokens': 221, 'completion_tokens_details': {'accepted_prediction_tokens': 0, 'audio_tokens': 0, 'reasoning_tokens': 0, 'rejected_prediction_tokens': 0}, 'prompt_tokens_details': {'audio_tokens': 0, 'cached_tokens': 0}}, 'model_name': 'gpt-3.5-turbo-0125', 'system_fingerprint': None, 'finish_reason': 'stop', 'logprobs': None}, id='run-27e3ea65-649a-444e-a564-7f130833446c-0', usage_metadata={'input_tokens': 31, 'output_tokens': 190, 'total_tokens': 221, 'input_token_details': {'audio': 0, 'cache_read': 0}, 'output_token_details': {'audio': 0, 'reasoning': 0}})]"
      ]
     },
     "execution_count": 24,
     "metadata": {},
     "output_type": "execute_result"
    }
   ],
   "source": [
    "SUBJECTS = [\n",
    "    {\"subject\": \"O que é a vida?\"},\n",
    "    {\"subject\": \"O que é a morte?\"},\n",
    "    {'subject': 'O que é a felicidade?'},\n",
    "    {'subject': 'O que é a tristeza?'},\n",
    "    {'subject': 'O que é a arte?'},\n",
    "    {'subject': 'O que é a ciência?'},\n",
    "    {'subject': 'O que é a religião?'},\n",
    "    {'subject': 'O que é a política?'},\n",
    "\n",
    "]\n",
    "\n",
    "chain.batch(SUBJECTS, config={'max_concurrency': 2})"
   ]
  },
  {
   "cell_type": "markdown",
   "metadata": {},
   "source": [
    "## AInvoke\n",
    "\n",
    "Todos os métodos possuem assíncronos correspondentes que devem ser usados com a sintaxe asyncio await para concorrência."
   ]
  },
  {
   "cell_type": "code",
   "execution_count": 31,
   "metadata": {},
   "outputs": [
    {
     "data": {
      "text/plain": [
       "AIMessage(content='A ciência é um conjunto de conhecimentos sistematizados e fundamentados em evidências empíricas, que busca compreender a natureza e o funcionamento do mundo ao nosso redor. É por meio da ciência que buscamos desvendar os mistérios da vida, do universo e de tudo o que nos rodeia. Ela nos permite questionar, experimentar, observar, analisar e compreender de forma racional e metódica os fenômenos que nos cercam. A ciência é um caminho de descoberta, um instrumento de transformação e um meio de desenvolvimento intelectual e tecnológico. É um esforço contínuo em busca da verdade, da objetividade e do conhecimento, que nos leva a repensar constantemente nossas ideias e conceitos, ampliando nossa compreensão do mundo e de nós mesmos. Assim, a ciência se revela como uma das maiores e mais poderosas ferramentas do ser humano para desvendar os mistérios do universo e avançar no progresso da humanidade.', additional_kwargs={'refusal': None}, response_metadata={'token_usage': {'completion_tokens': 248, 'prompt_tokens': 32, 'total_tokens': 280, 'completion_tokens_details': {'accepted_prediction_tokens': 0, 'audio_tokens': 0, 'reasoning_tokens': 0, 'rejected_prediction_tokens': 0}, 'prompt_tokens_details': {'audio_tokens': 0, 'cached_tokens': 0}}, 'model_name': 'gpt-3.5-turbo-0125', 'system_fingerprint': None, 'finish_reason': 'stop', 'logprobs': None}, id='run-c1e1f743-0fd4-4376-936f-94d2f2c6d48b-0', usage_metadata={'input_tokens': 32, 'output_tokens': 248, 'total_tokens': 280, 'input_token_details': {'audio': 0, 'cache_read': 0}, 'output_token_details': {'audio': 0, 'reasoning': 0}})"
      ]
     },
     "execution_count": 31,
     "metadata": {},
     "output_type": "execute_result"
    }
   ],
   "source": [
    "import asyncio\n",
    "\n",
    "async def processa_chain(input):\n",
    "    resposta = await chain.ainvoke(input)\n",
    "    return resposta\n",
    "\n",
    "task1 = asyncio.create_task(processa_chain({'subject': 'O que é a vida?'}))\n",
    "task2 = asyncio.create_task(processa_chain({'subject': 'O que é a amar?'}))\n",
    "task3 = asyncio.create_task(processa_chain({'subject': 'O que é a pensar?'}))\n",
    "task4 = asyncio.create_task(processa_chain({'subject': 'O que é a arte?'}))\n",
    "task5 = asyncio.create_task(processa_chain({'subject': 'O que é a ciência?'}))\n",
    "task6 = asyncio.create_task(processa_chain({'subject': 'O que é a religião?'}))\n",
    "\n",
    "await task1\n",
    "await task2\n",
    "await task3\n",
    "await task4\n",
    "await task5\n"
   ]
  },
  {
   "cell_type": "code",
   "execution_count": 26,
   "metadata": {},
   "outputs": [
    {
     "data": {
      "text/plain": [
       "AIMessage(content='A vida é um enigma que permeia a existência de todos os seres vivos neste vasto universo. Ela é um ciclo contínuo de nascimento, crescimento, aprendizado, desafios e transformações. É um dom precioso que nos foi concedido, repleto de momentos de alegria, tristeza, amor, perdas e conquistas. A vida é uma jornada cheia de incertezas, onde cada um de nós busca encontrar o seu propósito e significado. Ela é efêmera, fugaz e frágil, por isso devemos valorizá-la e vivê-la da melhor forma possível. A vida é uma dádiva que nos permite experienciar as mais diversas emoções e sensações, nos ensinando lições importantes e nos fazendo evoluir como seres humanos. É nosso dever apreciar cada instante, cada sorriso, cada lágrima, cada abraço, pois a vida é única e precisa ser vivida intensamente.', additional_kwargs={'refusal': None}, response_metadata={'token_usage': {'completion_tokens': 227, 'prompt_tokens': 31, 'total_tokens': 258, 'completion_tokens_details': {'accepted_prediction_tokens': 0, 'audio_tokens': 0, 'reasoning_tokens': 0, 'rejected_prediction_tokens': 0}, 'prompt_tokens_details': {'audio_tokens': 0, 'cached_tokens': 0}}, 'model_name': 'gpt-3.5-turbo-0125', 'system_fingerprint': None, 'finish_reason': 'stop', 'logprobs': None}, id='run-d1b52080-0194-4fd4-bafe-e9684f2185f2-0', usage_metadata={'input_tokens': 31, 'output_tokens': 227, 'total_tokens': 258, 'input_token_details': {'audio': 0, 'cache_read': 0}, 'output_token_details': {'audio': 0, 'reasoning': 0}})"
      ]
     },
     "execution_count": 26,
     "metadata": {},
     "output_type": "execute_result"
    }
   ],
   "source": [
    "task1.result()"
   ]
  },
  {
   "cell_type": "code",
   "execution_count": 29,
   "metadata": {},
   "outputs": [
    {
     "data": {
      "text/plain": [
       "AIMessage(content='Amar é mais do que um simples sentimento, é uma entrega total de si mesmo ao outro. É se doar sem esperar nada em troca, é aceitar as imperfeições do outro e ainda assim enxergar sua beleza interior. É querer o bem do outro acima de tudo, é estar presente nos momentos felizes e também nos momentos difíceis. Amar é compreender, é respeitar, é cuidar, é construir uma parceria baseada na confiança e no respeito mútuo. É encontrar a felicidade na felicidade do outro e ser capaz de perdoar e recomeçar quantas vezes forem necessárias. Amar é um ato de coragem e de generosidade, é a essência da vida e a fonte de toda a felicidade verdadeira.', additional_kwargs={'refusal': None}, response_metadata={'token_usage': {'completion_tokens': 188, 'prompt_tokens': 32, 'total_tokens': 220, 'completion_tokens_details': {'accepted_prediction_tokens': 0, 'audio_tokens': 0, 'reasoning_tokens': 0, 'rejected_prediction_tokens': 0}, 'prompt_tokens_details': {'audio_tokens': 0, 'cached_tokens': 0}}, 'model_name': 'gpt-3.5-turbo-0125', 'system_fingerprint': None, 'finish_reason': 'stop', 'logprobs': None}, id='run-9482d9f6-56e9-4ac9-9f5b-fdb373c1d833-0', usage_metadata={'input_tokens': 32, 'output_tokens': 188, 'total_tokens': 220, 'input_token_details': {'audio': 0, 'cache_read': 0}, 'output_token_details': {'audio': 0, 'reasoning': 0}})"
      ]
     },
     "execution_count": 29,
     "metadata": {},
     "output_type": "execute_result"
    }
   ],
   "source": [
    "task2.result()"
   ]
  },
  {
   "cell_type": "code",
   "execution_count": 30,
   "metadata": {},
   "outputs": [
    {
     "data": {
      "text/plain": [
       "AIMessage(content='Pensar é uma capacidade exclusivamente humana que nos permite refletir, analisar, questionar e criar. É através do pensamento que formamos nossas ideias, opiniões e conceitos sobre o mundo que nos cerca. Pensar vai além do simples ato de processar informações, envolve uma interpretação única e pessoal. É o que nos diferencia de outras espécies e nos permite evoluir, inovar e buscar respostas para as grandes questões da vida. Pensar é um exercício constante que nos desafia a expandir nossos horizontes e a enxergar além do óbvio. É através do pensamento crítico e reflexivo que somos capazes de transformar o mundo e a nós mesmos.', additional_kwargs={'refusal': None}, response_metadata={'token_usage': {'completion_tokens': 170, 'prompt_tokens': 31, 'total_tokens': 201, 'completion_tokens_details': {'accepted_prediction_tokens': 0, 'audio_tokens': 0, 'reasoning_tokens': 0, 'rejected_prediction_tokens': 0}, 'prompt_tokens_details': {'audio_tokens': 0, 'cached_tokens': 0}}, 'model_name': 'gpt-3.5-turbo-0125', 'system_fingerprint': None, 'finish_reason': 'stop', 'logprobs': None}, id='run-68ee0e2f-4a8a-46c1-9777-0f407e686ebd-0', usage_metadata={'input_tokens': 31, 'output_tokens': 170, 'total_tokens': 201, 'input_token_details': {'audio': 0, 'cache_read': 0}, 'output_token_details': {'audio': 0, 'reasoning': 0}})"
      ]
     },
     "execution_count": 30,
     "metadata": {},
     "output_type": "execute_result"
    }
   ],
   "source": [
    "task3.result()"
   ]
  },
  {
   "cell_type": "code",
   "execution_count": null,
   "metadata": {},
   "outputs": [
    {
     "name": "stdout",
     "output_type": "stream",
     "text": [
      "3.464428663253784\n"
     ]
    }
   ],
   "source": [
    "from time import time\n",
    "\n",
    "a = time()\n",
    "\n",
    "task1 = asyncio.create_task(processa_chain({'subject': 'O que é a vida?'}))\n",
    "task2 = asyncio.create_task(processa_chain({'subject': 'O que é a amar?'}))\n",
    "task3 = asyncio.create_task(processa_chain({'subject': 'O que é a pensar?'}))\n",
    "task4 = asyncio.create_task(processa_chain({'subject': 'O que é a arte?'}))\n",
    "task5 = asyncio.create_task(processa_chain({'subject': 'O que é a ciência?'}))\n",
    "task6 = asyncio.create_task(processa_chain({'subject': 'O que é a religião?'}))\n",
    "\n",
    "await task1\n",
    "await task2\n",
    "await task3\n",
    "await task4\n",
    "await task5\n",
    "\n",
    "b = time()\n",
    "print(b-a)"
   ]
  },
  {
   "cell_type": "code",
   "execution_count": null,
   "metadata": {},
   "outputs": [
    {
     "name": "stderr",
     "output_type": "stream",
     "text": [
      "C:\\Users\\edinocencio\\AppData\\Local\\Temp\\ipykernel_53612\\1808015849.py:5: RuntimeWarning: coroutine 'processa_chain' was never awaited\n",
      "  task1 = chain.invoke(processa_chain({'subject': 'O que é a vida?'}))\n",
      "RuntimeWarning: Enable tracemalloc to get the object allocation traceback\n",
      "C:\\Users\\edinocencio\\AppData\\Local\\Temp\\ipykernel_53612\\1808015849.py:6: RuntimeWarning: coroutine 'processa_chain' was never awaited\n",
      "  task2 = chain.invoke(processa_chain({'subject': 'O que é a amar?'}))\n",
      "RuntimeWarning: Enable tracemalloc to get the object allocation traceback\n",
      "C:\\Users\\edinocencio\\AppData\\Local\\Temp\\ipykernel_53612\\1808015849.py:7: RuntimeWarning: coroutine 'processa_chain' was never awaited\n",
      "  task3 = chain.invoke(processa_chain({'subject': 'O que é a pensar?'}))\n",
      "RuntimeWarning: Enable tracemalloc to get the object allocation traceback\n",
      "C:\\Users\\edinocencio\\AppData\\Local\\Temp\\ipykernel_53612\\1808015849.py:8: RuntimeWarning: coroutine 'processa_chain' was never awaited\n",
      "  task4 = chain.invoke(processa_chain({'subject': 'O que é a arte?'}))\n",
      "RuntimeWarning: Enable tracemalloc to get the object allocation traceback\n",
      "C:\\Users\\edinocencio\\AppData\\Local\\Temp\\ipykernel_53612\\1808015849.py:9: RuntimeWarning: coroutine 'processa_chain' was never awaited\n",
      "  task5 = chain.invoke(processa_chain({'subject': 'O que é a ciência?'}))\n",
      "RuntimeWarning: Enable tracemalloc to get the object allocation traceback\n"
     ]
    },
    {
     "name": "stdout",
     "output_type": "stream",
     "text": [
      "17.48121929168701\n"
     ]
    },
    {
     "name": "stderr",
     "output_type": "stream",
     "text": [
      "C:\\Users\\edinocencio\\AppData\\Local\\Temp\\ipykernel_53612\\1808015849.py:10: RuntimeWarning: coroutine 'processa_chain' was never awaited\n",
      "  task6 = chain.invoke(processa_chain({'subject': 'O que é a religião?'}))\n",
      "RuntimeWarning: Enable tracemalloc to get the object allocation traceback\n"
     ]
    }
   ],
   "source": [
    "from time import time\n",
    "\n",
    "a = time()\n",
    "\n",
    "task1 = chain.invoke(processa_chain({'subject': 'O que é a vida?'}))\n",
    "task2 = chain.invoke(processa_chain({'subject': 'O que é a amar?'}))\n",
    "task3 = chain.invoke(processa_chain({'subject': 'O que é a pensar?'}))\n",
    "task4 = chain.invoke(processa_chain({'subject': 'O que é a arte?'}))\n",
    "task5 = chain.invoke(processa_chain({'subject': 'O que é a ciência?'}))\n",
    "task6 = chain.invoke(processa_chain({'subject': 'O que é a religião?'}))\n",
    "\n",
    "b = time()\n",
    "print(b-a)\n"
   ]
  }
 ],
 "metadata": {
  "kernelspec": {
   "display_name": "venv",
   "language": "python",
   "name": "python3"
  },
  "language_info": {
   "codemirror_mode": {
    "name": "ipython",
    "version": 3
   },
   "file_extension": ".py",
   "mimetype": "text/x-python",
   "name": "python",
   "nbconvert_exporter": "python",
   "pygments_lexer": "ipython3",
   "version": "3.11.9"
  }
 },
 "nbformat": 4,
 "nbformat_minor": 2
}

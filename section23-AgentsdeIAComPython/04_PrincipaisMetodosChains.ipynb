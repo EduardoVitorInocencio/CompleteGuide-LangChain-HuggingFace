{
 "cells": [
  {
   "cell_type": "markdown",
   "metadata": {},
   "source": [
    "# Principais métodos de chains com LCEL\n",
    "\n",
    "A interface padrão do LCEL inclui os seguintes métodos:\n",
    "\n",
    "• stream : transmitir de volta fragmentos da resposta\n",
    "\n",
    "• invoke : chamar a cadeia com um input\n",
    "\n",
    "• batch : chamar a cadeia com uma lista de inputs\n",
    "\n",
    "\n",
    "Esses também possuem métodos assíncronos correspondentes que devem ser usados com a sintaxe asyncio await para concorrência:\n",
    "\n",
    "• astream : transmitir de volta fragmentos de resposta de forma assíncrona.\n",
    "\n",
    "• ainvoke : chamar a cadeia com um input de forma assíncrona.\n",
    "\n",
    "• abatch : chamar a cadeia com uma lista de input de forma assíncrona.\n",
    "\n",
    "• astream_log : transmitir de volta etapas intermediárias à medida que acontecem, além da resposta final.\n",
    "\n",
    "• astream_events : transmitir eventos beta à medida que acontecem na cadeia."
   ]
  },
  {
   "cell_type": "code",
   "execution_count": 14,
   "metadata": {},
   "outputs": [],
   "source": [
    "from pyexpat import model\n",
    "from langchain_openai import ChatOpenAI\n",
    "from langchain_core.prompts import ChatPromptTemplate\n",
    "from langchain_core.output_parsers import StrOutputParser\n",
    "\n",
    "model = ChatOpenAI(model='gpt-3.5-turbo')\n",
    "prompt = ChatPromptTemplate.from_template(\"Crie um parágrafo filosofando sobre o seguinte assunto: {subject}\")\n",
    "\n",
    "chain = prompt | model "
   ]
  },
  {
   "cell_type": "markdown",
   "metadata": {},
   "source": [
    "## INVOKE\n",
    "\n",
    "O invoke é o método básico para uma input da caideia receber uma resposta"
   ]
  },
  {
   "cell_type": "code",
   "execution_count": 15,
   "metadata": {},
   "outputs": [
    {
     "data": {
      "text/plain": [
       "AIMessage(content='A vida é um mistério envolto em fragilidade e beleza. É um ciclo contínuo de nascimentos, mortes e renascimentos, onde cada momento é único e precioso. É uma jornada repleta de desafios, aprendizados e oportunidades de crescimento. A vida é um presente que nos foi dado, cheio de possibilidades e potenciais. É a oportunidade de experimentar, evoluir e buscar a felicidade em meio às adversidades e incertezas. Cada um de nós tem o poder de dar significado e propósito à nossa existência, transformando a vida em uma obra de arte em constante construção.', additional_kwargs={'refusal': None}, response_metadata={'token_usage': {'completion_tokens': 152, 'prompt_tokens': 31, 'total_tokens': 183, 'completion_tokens_details': {'accepted_prediction_tokens': 0, 'audio_tokens': 0, 'reasoning_tokens': 0, 'rejected_prediction_tokens': 0}, 'prompt_tokens_details': {'audio_tokens': 0, 'cached_tokens': 0}}, 'model_name': 'gpt-3.5-turbo-0125', 'system_fingerprint': None, 'finish_reason': 'stop', 'logprobs': None}, id='run-d4d98179-3d5b-44e7-b79d-46d11a8a4b0d-0', usage_metadata={'input_tokens': 31, 'output_tokens': 152, 'total_tokens': 183, 'input_token_details': {'audio': 0, 'cache_read': 0}, 'output_token_details': {'audio': 0, 'reasoning': 0}})"
      ]
     },
     "execution_count": 15,
     "metadata": {},
     "output_type": "execute_result"
    }
   ],
   "source": [
    "chain.invoke({\"subject\": \"O que é a vida?\"})"
   ]
  },
  {
   "cell_type": "markdown",
   "metadata": {},
   "source": [
    "## STREAM\n",
    "\n",
    "Para recebermos uma saída conforme ela é gerada pelo modelo utilizando o stream"
   ]
  },
  {
   "cell_type": "code",
   "execution_count": 19,
   "metadata": {},
   "outputs": [
    {
     "name": "stdout",
     "output_type": "stream",
     "text": [
      "O cachorrinho, pequeno em tamanho mas gigante em amor, nos ensina lições valiosas sobre lealdade, companheirismo e alegria. Sua presença em nossas vidas traz uma sensação de paz e conforto que nos faz sentir amados e protegidos. Eles nos mostram que, mesmo nos momentos mais difíceis, sempre haverá alguém ao nosso lado para nos apoiar e nos fazer sorrir. O cachorrinho é um exemplo de pureza e simplicidade, nos lembrando que a felicidade está nas pequenas coisas e que o amor verdadeiro não precisa de palavras, apenas de um olhar ou um carinho. Em sua inocência, nos mostram que a vida pode ser mais simples e mais bonita, se aprendermos a valorizar as pequenas coisas e a compartilhar o amor incondicional que eles nos oferecem."
     ]
    }
   ],
   "source": [
    "for chunk in chain.stream({'subject':'cachorrinho'}):\n",
    "    print(chunk.content, end = '', flush=True)"
   ]
  },
  {
   "cell_type": "markdown",
   "metadata": {},
   "source": [
    "## BATCH\n",
    "\n",
    "Para fazermos múltiplas requisições em paralelo utilizamos o batch."
   ]
  },
  {
   "cell_type": "code",
   "execution_count": null,
   "metadata": {},
   "outputs": [],
   "source": [
    "SUBJECTS = [\n",
    "    {\"subject\": \"O que é a vida?\"},\n",
    "    {\"subject\": \"O que é a morte?\"},\n",
    "    {'subject': 'O que é a felicidade?'},\n",
    "]\n",
    "chain.batch"
   ]
  }
 ],
 "metadata": {
  "kernelspec": {
   "display_name": "venv",
   "language": "python",
   "name": "python3"
  },
  "language_info": {
   "codemirror_mode": {
    "name": "ipython",
    "version": 3
   },
   "file_extension": ".py",
   "mimetype": "text/x-python",
   "name": "python",
   "nbconvert_exporter": "python",
   "pygments_lexer": "ipython3",
   "version": "3.11.9"
  }
 },
 "nbformat": 4,
 "nbformat_minor": 2
}
